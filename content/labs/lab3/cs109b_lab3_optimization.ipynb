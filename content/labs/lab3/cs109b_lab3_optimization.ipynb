{
 "cells": [
  {
   "cell_type": "markdown",
   "metadata": {},
   "source": [
    "# <img style=\"float: left; padding-right: 10px; width: 45px\" src=\"https://raw.githubusercontent.com/Harvard-IACS/2018-CS109A/master/content/styles/iacs.png\"> CS-109B Introduction to Data Science\n",
    "## Lab 3: Optimization in Artificial Neural Networks\n",
    "\n",
    "**Harvard University**<br>\n",
    "**Spring 2019**<br>\n",
    "**Lab instructor** Eleni Kaxiras<br>\n",
    "**Instructors:** Pavlos Protopapas and Mark Glickman<br>"
   ]
  },
  {
   "cell_type": "code",
   "execution_count": 1,
   "metadata": {
    "code_folding": [
     0
    ]
   },
   "outputs": [
    {
     "data": {
      "text/html": [
       "<style>\n",
       "blockquote { background: #AEDE94; }\n",
       "h1 { \n",
       "    padding-top: 25px;\n",
       "    padding-bottom: 25px;\n",
       "    text-align: left; \n",
       "    padding-left: 10px;\n",
       "    background-color: #DDDDDD; \n",
       "    color: black;\n",
       "}\n",
       "h2 { \n",
       "    padding-top: 10px;\n",
       "    padding-bottom: 10px;\n",
       "    text-align: left; \n",
       "    padding-left: 5px;\n",
       "    background-color: #EEEEEE; \n",
       "    color: black;\n",
       "}\n",
       "\n",
       "div.exercise {\n",
       "\tbackground-color: #ffcccc;\n",
       "\tborder-color: #E9967A; \t\n",
       "\tborder-left: 5px solid #800080; \n",
       "\tpadding: 0.5em;\n",
       "}\n",
       "div.discussion {\n",
       "\tbackground-color: #ccffcc;\n",
       "\tborder-color: #88E97A;\n",
       "\tborder-left: 5px solid #0A8000; \n",
       "\tpadding: 0.5em;\n",
       "}\n",
       "div.theme {\n",
       "\tbackground-color: #DDDDDD;\n",
       "\tborder-color: #E9967A; \t\n",
       "\tborder-left: 5px solid #800080; \n",
       "\tpadding: 0.5em;\n",
       "\tfont-size: 18pt;\n",
       "}\n",
       "div.gc { \n",
       "\tbackground-color: #AEDE94;\n",
       "\tborder-color: #E9967A; \t \n",
       "\tborder-left: 5px solid #800080; \n",
       "\tpadding: 0.5em;\n",
       "\tfont-size: 12pt;\n",
       "}\n",
       "p.q1 { \n",
       "    padding-top: 5px;\n",
       "    padding-bottom: 5px;\n",
       "    text-align: left; \n",
       "    padding-left: 5px;\n",
       "    background-color: #EEEEEE; \n",
       "    color: black;\n",
       "}\n",
       "header {\n",
       "   padding-top: 35px;\n",
       "    padding-bottom: 35px;\n",
       "    text-align: left; \n",
       "    padding-left: 10px;\n",
       "    background-color: #DDDDDD; \n",
       "    color: black;\n",
       "}\n",
       "</style>\n",
       "\n"
      ],
      "text/plain": [
       "<IPython.core.display.HTML object>"
      ]
     },
     "execution_count": 1,
     "metadata": {},
     "output_type": "execute_result"
    }
   ],
   "source": [
    "## RUN THIS CELL TO PROPERLY HIGHLIGHT THE EXERCISES\n",
    "import requests\n",
    "from IPython.core.display import HTML\n",
    "styles = requests.get(\"https://raw.githubusercontent.com/Harvard-IACS/2019-CS109B/master/content/styles/cs109.css\").text\n",
    "HTML(styles)"
   ]
  },
  {
   "cell_type": "markdown",
   "metadata": {},
   "source": [
    "## Learning Goals\n",
    "In this lab, we'll explore ways to optimize the loss function of a Multilayer Learning Perceptor (MLP) by tuning the model hyperparameters. We'll also explore the use of cross-validation as a technique for checking potential values for these hyperparameters.\n",
    "\n",
    "By the end of this lab, you should:\n",
    "- Be familiar with the use of `sklearn`'s `optimize` function.\n",
    "- Be able to identify the hyperparameters that go into the training of a MLP.\n",
    "- Be familiar with the implementation in `keras` of various optimization techniques.\n",
    "- Apply cross-validation to check for multiple values of hyperparameters."
   ]
  },
  {
   "cell_type": "code",
   "execution_count": 2,
   "metadata": {},
   "outputs": [],
   "source": [
    "import matplotlib.pyplot as plt\n",
    "import numpy as np\n",
    "from scipy.optimize import minimize\n",
    "\n",
    "%matplotlib inline"
   ]
  },
  {
   "cell_type": "markdown",
   "metadata": {},
   "source": [
    "## Part 1:  Beale's function\n",
    "### First let's look at function optimization in `scipy.optimize`, using Beale's function as an example\n",
    "\n",
    "Optimizing a function $f: A\\rightarrow R$, from some set A to the real numbers is finding an element $x_0\\,\\epsilon\\, A$ such that $f(x_0)\\leq f(x)$ for all $x\\,\\epsilon\\, A$ (finding the minimum) or such that $f(x_0)\\geq f(x)$ for all $x\\,\\epsilon\\, A$ (finding the maximum).\n",
    "\n",
    "To illustrate our point we will use a function of two parameters.  Our goal is to optimize over these 2 parameters. We can extend to higher dimensions by plotting pairs of parameters against each other.\n",
    "\n",
    "The Wikipedia article on Test functions for optimization has a few functions that are useful for evaluating optimization algorithms. Here is Beale's function:\n",
    "\n",
    "$f(x,y)$ = $(1.5−x+xy)^2+(2.25−x+xy^2)^2+(2.625−x+xy^3)^2$\n",
    "\n",
    "\\[source:[Wikipedia](https://en.wikipedia.org/wiki/Test_functions_for_optimization)\\]\n",
    "\n",
    "We already know that this function has a minimum at [3.0, 0.5]. Let's see if `scipy` will find it."
   ]
  },
  {
   "cell_type": "markdown",
   "metadata": {},
   "source": [
    "![alt text](Bealesfunction.jpg)"
   ]
  },
  {
   "cell_type": "code",
   "execution_count": 3,
   "metadata": {},
   "outputs": [],
   "source": [
    "# define Beale's function which we want to minimize\n",
    "def objective(X):\n",
    "    x = X[0]; y = X[1]\n",
    "    return (1.5 - x + x*y)**2 + (2.25 - x + x*y**2)**2 + (2.625 - x + x*y**3)**2"
   ]
  },
  {
   "cell_type": "code",
   "execution_count": 4,
   "metadata": {},
   "outputs": [],
   "source": [
    "# function boundaries\n",
    "xmin, xmax, xstep = -4.5, 4.5, .9\n",
    "ymin, ymax, ystep = -4.5, 4.5, .9"
   ]
  },
  {
   "cell_type": "code",
   "execution_count": 5,
   "metadata": {},
   "outputs": [],
   "source": [
    "# Let's create some points\n",
    "x1, y1 = np.meshgrid(np.arange(xmin, xmax + xstep, xstep), np.arange(ymin, ymax + ystep, ystep))"
   ]
  },
  {
   "cell_type": "markdown",
   "metadata": {},
   "source": [
    "Let's make an initial guess"
   ]
  },
  {
   "cell_type": "code",
   "execution_count": 6,
   "metadata": {},
   "outputs": [
    {
     "name": "stdout",
     "output_type": "stream",
     "text": [
      "68891.203125\n"
     ]
    }
   ],
   "source": [
    "# initial guess\n",
    "x0 = [4., 4.]  \n",
    "f0 = objective(x0)\n",
    "print (f0)"
   ]
  },
  {
   "cell_type": "code",
   "execution_count": 7,
   "metadata": {},
   "outputs": [],
   "source": [
    "bnds = ((xmin, xmax), (ymin, ymax))\n",
    "minimum = minimize(objective, x0, bounds=bnds)"
   ]
  },
  {
   "cell_type": "code",
   "execution_count": 8,
   "metadata": {},
   "outputs": [
    {
     "name": "stdout",
     "output_type": "stream",
     "text": [
      "      fun: 2.068025638865627e-12\n",
      " hess_inv: <2x2 LbfgsInvHessProduct with dtype=float64>\n",
      "      jac: array([-1.55969780e-06,  9.89837957e-06])\n",
      "  message: b'CONVERGENCE: NORM_OF_PROJECTED_GRADIENT_<=_PGTOL'\n",
      "     nfev: 60\n",
      "      nit: 14\n",
      "   status: 0\n",
      "  success: True\n",
      "        x: array([3.00000257, 0.50000085])\n"
     ]
    }
   ],
   "source": [
    "print(minimum)"
   ]
  },
  {
   "cell_type": "code",
   "execution_count": 9,
   "metadata": {},
   "outputs": [
    {
     "name": "stdout",
     "output_type": "stream",
     "text": [
      "The answer, [3.00000257 0.50000085], is very close to the optimum as we know it, which is [3.0, 0.5]\n",
      "The value of the objective for [3.0, 0.5] is 0.0\n"
     ]
    }
   ],
   "source": [
    "real_min = [3.0, 0.5]\n",
    "print (f'The answer, {minimum.x}, is very close to the optimum as we know it, which is {real_min}') \n",
    "print (f'The value of the objective for {real_min} is {objective(real_min)}')"
   ]
  },
  {
   "cell_type": "markdown",
   "metadata": {},
   "source": [
    "## Part 2: Optimization in neural networks\n",
    "\n",
    "In general: **Learning Representation --> Objective function --> Optimization algorithm**\n",
    "\n",
    "A neural network can be defined as a framework that combines inputs and tries to guess the output. If we are lucky enough to have some results, called \"the ground truth\", to compare the outputs produced by the network, we can calculate the **error**. So the network guesses, calculates some error function, guesses again, trying to minimize this error, guesses again, until the error does not go down any more. This is optimization.  \n",
    "\n",
    "In neural networks the most common used optimization algorithms, are flavors of **GD (gradient descent)**. The *objective function* used in gradient descent is the *loss function* which we want to minimize ."
   ]
  },
  {
   "cell_type": "markdown",
   "metadata": {},
   "source": [
    "### A `keras` Refresher"
   ]
  },
  {
   "cell_type": "markdown",
   "metadata": {},
   "source": [
    "`Keras` is a Python library for deep learning that can run on top of both Theano or\n",
    "TensorFlow, two powerful Python libraries for fast numerical computing created and released by Facebook and Google, respectevely.\n",
    "\n",
    "Keras was developed to make developing deep learning models as fast and easy as\n",
    "possible for research and practical applications. It runs on Python 2.7 or 3.5 and can seamlessly execute on GPUs and CPUs.\n",
    "\n",
    "Keras is built on the idea of a model. At its core we have a sequence of layers called\n",
    "the `Sequential` model which is a linear stack of layers. Keras also provides the `functional API`, a way to define complex models, such as multi-output models, directed acyclic graphs, or models with shared layers.\n",
    "\n",
    "We can summarize the construction of deep learning models in Keras using the Sequential model as follows:\n",
    "1. **Define your model**: create a `Sequential` model and add layers.\n",
    "2. **Compile your model**: specify loss function and optimizers and call the `.compile()` function.\n",
    "3. **Fit your model**: train the model on data by calling the `.fit()` function.\n",
    "4. **Make predictions**: use the model to generate predictions on new data by calling functions such as `.evaluate()` or `.predict()`."
   ]
  },
  {
   "cell_type": "markdown",
   "metadata": {},
   "source": [
    "### Callbacks: taking a peek into our model while it's training\n",
    "\n",
    "You can look at what is happening in various stages of your model by using `callbacks`. A callback is a set of functions to be applied at given stages of the training procedure. You can use callbacks to get a view on internal states and statistics of the model during training. You can pass a list of callbacks (as the keyword argument callbacks) to the `.fit()` method of the Sequential or Model classes. The relevant methods of the callbacks will then be called at each stage of the training.\n",
    "\n",
    "- A callback function you are already familiar with is `keras.callbacks.History()`. This is automatically included in `.fit()`.\n",
    "\n",
    "\n",
    "- Another very useful one is `keras.callbacks.ModelCheckpoint` which saves the model with its weights at a certain point in the training. This can prove useful if your model is running for a long time and a system failure happens. Not all is lost then. It's a good practice to save the model weights only when an improvement is observed as measured by the `acc`, for example.\n",
    "\n",
    "\n",
    "- `keras.callbacks.EarlyStopping` stops the training when a monitored quantity has stopped improving.\n",
    "\n",
    "\n",
    "- `keras.callbacks.LearningRateScheduler` will change the learning rate during training.\n",
    "\n",
    "\n",
    "We will apply some callbacks later.\n",
    "\n",
    "For full documentation on `callbacks` see https://keras.io/callbacks/"
   ]
  },
  {
   "cell_type": "markdown",
   "metadata": {},
   "source": [
    "### What are the steps to optimizing our network?"
   ]
  },
  {
   "cell_type": "code",
   "execution_count": 10,
   "metadata": {},
   "outputs": [
    {
     "name": "stdout",
     "output_type": "stream",
     "text": [
      "1.12.0\n",
      "2.1.6-tf\n"
     ]
    },
    {
     "name": "stderr",
     "output_type": "stream",
     "text": [
      "Using TensorFlow backend.\n"
     ]
    }
   ],
   "source": [
    "import tensorflow as tf\n",
    "import keras\n",
    "from keras import layers\n",
    "from keras import models\n",
    "from keras import utils\n",
    "from keras.layers import Dense\n",
    "from keras.models import Sequential\n",
    "from keras.layers import Flatten\n",
    "from keras.layers import Dropout\n",
    "from keras.layers import Activation\n",
    "from keras.regularizers import l2\n",
    "from keras.optimizers import SGD\n",
    "from keras.optimizers import RMSprop\n",
    "from keras import datasets\n",
    "\n",
    "from keras import losses\n",
    "from sklearn.utils import shuffle\n",
    "\n",
    "print(tf.VERSION)\n",
    "print(tf.keras.__version__)\n",
    "\n",
    "# fix random seed for reproducibility\n",
    "np.random.seed(5)"
   ]
  },
  {
   "cell_type": "markdown",
   "metadata": {},
   "source": [
    "### Step 1 -  Deciding on the network topology (not really considered optimization but is obviously very important)"
   ]
  },
  {
   "cell_type": "markdown",
   "metadata": {},
   "source": [
    "We will use the MNIST dataset which consists of grayscale images of handwritten digits (0-9) whose dimension is 28x28 pixels. Each pixel is 8 bits so its value ranges from 0 to 255."
   ]
  },
  {
   "cell_type": "code",
   "execution_count": 11,
   "metadata": {},
   "outputs": [
    {
     "data": {
      "text/plain": [
       "((60000, 28, 28), (60000,))"
      ]
     },
     "execution_count": 11,
     "metadata": {},
     "output_type": "execute_result"
    }
   ],
   "source": [
    "#mnist = tf.keras.datasets.mnist\n",
    "mnist = keras.datasets.mnist\n",
    "(x_train, y_train),(x_test, y_test) = mnist.load_data()\n",
    "x_train.shape, y_train.shape"
   ]
  },
  {
   "cell_type": "markdown",
   "metadata": {},
   "source": [
    "Each label is a number between 0 and 9"
   ]
  },
  {
   "cell_type": "code",
   "execution_count": 12,
   "metadata": {},
   "outputs": [
    {
     "name": "stdout",
     "output_type": "stream",
     "text": [
      "[5 0 4 ... 5 6 8]\n"
     ]
    }
   ],
   "source": [
    "print(y_train)"
   ]
  },
  {
   "cell_type": "markdown",
   "metadata": {},
   "source": [
    "Let's look at some 10 of the images"
   ]
  },
  {
   "cell_type": "code",
   "execution_count": 13,
   "metadata": {
    "scrolled": true
   },
   "outputs": [
    {
     "data": {
      "image/png": "[encoded data removed]",
      "text/plain": [
       "<Figure size 720x720 with 10 Axes>"
      ]
     },
     "metadata": {},
     "output_type": "display_data"
    }
   ],
   "source": [
    "plt.figure(figsize=(10,10))\n",
    "for i in range(10):\n",
    "    plt.subplot(5,5,i+1)\n",
    "    plt.xticks([])\n",
    "    plt.yticks([])\n",
    "    plt.grid(False)\n",
    "    plt.imshow(x_train[i], cmap=plt.cm.binary)\n",
    "    plt.xlabel(y_train[i])"
   ]
  },
  {
   "cell_type": "code",
   "execution_count": 16,
   "metadata": {
    "scrolled": false
   },
   "outputs": [
    {
     "name": "stdout",
     "output_type": "stream",
     "text": [
      "(28, 28)\n"
     ]
    },
    {
     "data": {
      "text/plain": [
       "array([[ 11, 198, 231,  41,   0],\n",
       "       [ 82, 252, 204,   0,   0],\n",
       "       [253, 253, 141,   0,   0],\n",
       "       [252, 220,  36,   0,   0],\n",
       "       [252,  96,   0,   0,   0]], dtype=uint8)"
      ]
     },
     "execution_count": 16,
     "metadata": {},
     "output_type": "execute_result"
    }
   ],
   "source": [
    "print(x_train[45].shape)\n",
    "x_train[45, 15:20, 15:20]"
   ]
  },
  {
   "cell_type": "code",
   "execution_count": 15,
   "metadata": {},
   "outputs": [
    {
     "name": "stdout",
     "output_type": "stream",
     "text": [
      "We have 60000 train samples\n",
      "We have 10000 test samples\n"
     ]
    }
   ],
   "source": [
    "print(f'We have {x_train.shape[0]} train samples')\n",
    "print(f'We have {x_test.shape[0]} test samples')"
   ]
  },
  {
   "cell_type": "markdown",
   "metadata": {},
   "source": [
    "#### Preprocessing the data\n",
    "\n",
    "To run our NN we need to pre-process the data\n",
    "\n",
    "* First we need to make the 2D image arrays into 1D (flatten them). We can either perform this by using array reshaping with `numpy.reshape()` or the `keras`' method for this: a layer called `tf.keras.layers.Flatten` which transforms the format of the images from a 2d-array (of 28 by 28 pixels), to a 1D-array of 28 * 28 = 784 pixels. \n",
    "\n",
    "* Then we need to normalize the pixel values (give them values between 0 and 1) using the following transformation:\n",
    "\n",
    "\\begin{align}\n",
    "x := \\dfrac{x - x_{min}}{x_{max} - x_{min}} \n",
    "\\textrm{}\n",
    "\\end{align}\n",
    "\n",
    "In our case $x_{min} = 0$ and $x_{max} = 255$ so the formula becomes simply $x := {x}/255$ "
   ]
  },
  {
   "cell_type": "code",
   "execution_count": 17,
   "metadata": {
    "code_folding": []
   },
   "outputs": [],
   "source": [
    "# normalize the data\n",
    "x_train, x_test = x_train / 255.0, x_test / 255.0"
   ]
  },
  {
   "cell_type": "code",
   "execution_count": 18,
   "metadata": {},
   "outputs": [],
   "source": [
    "# reshape the data into 1D vectors\n",
    "x_train = x_train.reshape(60000, 784)\n",
    "x_test = x_test.reshape(10000, 784)\n",
    "\n",
    "num_classes = 10"
   ]
  },
  {
   "cell_type": "code",
   "execution_count": 19,
   "metadata": {},
   "outputs": [
    {
     "data": {
      "text/plain": [
       "784"
      ]
     },
     "execution_count": 19,
     "metadata": {},
     "output_type": "execute_result"
    }
   ],
   "source": [
    "x_train.shape[1]"
   ]
  },
  {
   "cell_type": "markdown",
   "metadata": {},
   "source": [
    "Now let's prepare our class vector (y) to a binary class matrix, e.g. for use with categorical_crossentropy."
   ]
  },
  {
   "cell_type": "code",
   "execution_count": 20,
   "metadata": {},
   "outputs": [],
   "source": [
    "# Convert class vectors to binary class matrices\n",
    "y_train = keras.utils.to_categorical(y_train, num_classes)\n",
    "y_test = keras.utils.to_categorical(y_test, num_classes)"
   ]
  },
  {
   "cell_type": "code",
   "execution_count": 21,
   "metadata": {},
   "outputs": [
    {
     "data": {
      "text/plain": [
       "array([0., 0., 0., 0., 0., 1., 0., 0., 0., 0.], dtype=float32)"
      ]
     },
     "execution_count": 21,
     "metadata": {},
     "output_type": "execute_result"
    }
   ],
   "source": [
    "y_train[0]"
   ]
  },
  {
   "cell_type": "markdown",
   "metadata": {},
   "source": [
    "Now we are ready to build the model!"
   ]
  },
  {
   "cell_type": "markdown",
   "metadata": {},
   "source": [
    "### Step 2 - Adjusting the `learning rate`\n",
    "\n",
    "One of the most common optimization algorithm is Stochastic Gradient Descent (SGD). The hyperparameters that can be optimized in SGD are `learning rate`, `momentum`, `decay` and `nesterov`.\n",
    "\n",
    "`Learning rate` controls the weight at the end of each batch, and `momentum` controls how much to let the previous update influence the current weight update. `Decay` indicates the learning rate decay over each update, and `nesterov` takes the value True or False depending on if we want to apply Nesterov momentum. Typical values for those hyperparameters are lr=0.01, decay=1e-6, momentum=0.9, and nesterov=True. \n",
    "\n",
    "The learning rate hyperparameter goes into the `optimizer` function which we will see below."
   ]
  },
  {
   "cell_type": "markdown",
   "metadata": {},
   "source": [
    "![learning rates](learningrates.jpeg)"
   ]
  },
  {
   "cell_type": "markdown",
   "metadata": {},
   "source": [
    "Let's implement a learning rate adaptation schedule in `Keras`. We'll start with SGD and a learning rate value of 0.1. We will then train the model for 40\n",
    "epochs and set the decay argument to 0.002 (0.1/50). We also include a momentum value of 0.8 since that seems to work well when using an adaptive learning rate. "
   ]
  },
  {
   "cell_type": "code",
   "execution_count": 22,
   "metadata": {},
   "outputs": [],
   "source": [
    "epochs = 60\n",
    "learning_rate = 0.1\n",
    "decay_rate = learning_rate / epochs\n",
    "momentum = 0.8\n",
    "\n",
    "sgd = SGD(lr=learning_rate, momentum=momentum, decay=decay_rate, nesterov=False)"
   ]
  },
  {
   "cell_type": "code",
   "execution_count": 23,
   "metadata": {},
   "outputs": [],
   "source": [
    "# build the model\n",
    "input_dim = x_train.shape[1]\n",
    "\n",
    "lr_model = Sequential()\n",
    "lr_model.add(Dense(64, activation=tf.nn.relu, kernel_initializer='uniform', \n",
    "                input_dim = input_dim)) # fully-connected layer with 64 hidden units\n",
    "lr_model.add(Dense(64, kernel_initializer='uniform', activation=tf.nn.relu))\n",
    "lr_model.add(Dense(num_classes, kernel_initializer='uniform', activation=tf.nn.softmax))\n",
    "\n",
    "# compile the model\n",
    "lr_model.compile(loss='categorical_crossentropy',\n",
    "              optimizer=sgd,\n",
    "              metrics=['acc'])"
   ]
  },
  {
   "cell_type": "code",
   "execution_count": 24,
   "metadata": {},
   "outputs": [
    {
     "name": "stdout",
     "output_type": "stream",
     "text": [
      "Train on 60000 samples, validate on 10000 samples\n",
      "Epoch 1/60\n",
      "60000/60000 [==============================] - 4s 73us/step - loss: 0.2859 - acc: 0.9069 - val_loss: 0.1374 - val_acc: 0.9579\n",
      "Epoch 2/60\n",
      "60000/60000 [==============================] - 4s 58us/step - loss: 0.1046 - acc: 0.9683 - val_loss: 0.1046 - val_acc: 0.9676\n",
      "Epoch 3/60\n",
      "60000/60000 [==============================] - 3s 58us/step - loss: 0.0780 - acc: 0.9767 - val_loss: 0.0928 - val_acc: 0.9723\n",
      "Epoch 4/60\n",
      "60000/60000 [==============================] - 3s 57us/step - loss: 0.0647 - acc: 0.9809 - val_loss: 0.0878 - val_acc: 0.9747\n",
      "Epoch 5/60\n",
      "60000/60000 [==============================] - 3s 56us/step - loss: 0.0571 - acc: 0.9832 - val_loss: 0.0859 - val_acc: 0.9747\n",
      "Epoch 6/60\n",
      "60000/60000 [==============================] - 3s 53us/step - loss: 0.0515 - acc: 0.9849 - val_loss: 0.0840 - val_acc: 0.9756\n",
      "Epoch 7/60\n",
      "60000/60000 [==============================] - 3s 53us/step - loss: 0.0470 - acc: 0.9863 - val_loss: 0.0853 - val_acc: 0.9742\n",
      "Epoch 8/60\n",
      "60000/60000 [==============================] - 3s 57us/step - loss: 0.0437 - acc: 0.9873 - val_loss: 0.0858 - val_acc: 0.9740\n",
      "Epoch 9/60\n",
      "60000/60000 [==============================] - 3s 57us/step - loss: 0.0413 - acc: 0.9882 - val_loss: 0.0827 - val_acc: 0.9752\n",
      "Epoch 10/60\n",
      "60000/60000 [==============================] - 3s 58us/step - loss: 0.0389 - acc: 0.9888 - val_loss: 0.0833 - val_acc: 0.9750\n",
      "Epoch 11/60\n",
      "60000/60000 [==============================] - 3s 53us/step - loss: 0.0371 - acc: 0.9893 - val_loss: 0.0826 - val_acc: 0.9744\n",
      "Epoch 12/60\n",
      "60000/60000 [==============================] - 3s 54us/step - loss: 0.0354 - acc: 0.9901 - val_loss: 0.0831 - val_acc: 0.9754\n",
      "Epoch 13/60\n",
      "60000/60000 [==============================] - 3s 53us/step - loss: 0.0341 - acc: 0.9904 - val_loss: 0.0824 - val_acc: 0.9755\n",
      "Epoch 14/60\n",
      "60000/60000 [==============================] - 3s 54us/step - loss: 0.0328 - acc: 0.9909 - val_loss: 0.0822 - val_acc: 0.9762\n",
      "Epoch 15/60\n",
      "60000/60000 [==============================] - 3s 54us/step - loss: 0.0318 - acc: 0.9915 - val_loss: 0.0821 - val_acc: 0.9761\n",
      "Epoch 16/60\n",
      "60000/60000 [==============================] - 3s 54us/step - loss: 0.0307 - acc: 0.9918 - val_loss: 0.0823 - val_acc: 0.9756\n",
      "Epoch 17/60\n",
      "60000/60000 [==============================] - 3s 53us/step - loss: 0.0298 - acc: 0.9921 - val_loss: 0.0827 - val_acc: 0.9762\n",
      "Epoch 18/60\n",
      "60000/60000 [==============================] - 3s 54us/step - loss: 0.0289 - acc: 0.9926 - val_loss: 0.0822 - val_acc: 0.9757\n",
      "Epoch 19/60\n",
      "60000/60000 [==============================] - 3s 54us/step - loss: 0.0282 - acc: 0.9927 - val_loss: 0.0818 - val_acc: 0.9762\n",
      "Epoch 20/60\n",
      "60000/60000 [==============================] - 3s 54us/step - loss: 0.0275 - acc: 0.9931 - val_loss: 0.0819 - val_acc: 0.9765\n",
      "Epoch 21/60\n",
      "60000/60000 [==============================] - 3s 54us/step - loss: 0.0269 - acc: 0.9933 - val_loss: 0.0826 - val_acc: 0.9761\n",
      "Epoch 22/60\n",
      "60000/60000 [==============================] - 3s 53us/step - loss: 0.0263 - acc: 0.9933 - val_loss: 0.0825 - val_acc: 0.9764\n",
      "Epoch 23/60\n",
      "60000/60000 [==============================] - 3s 54us/step - loss: 0.0257 - acc: 0.9935 - val_loss: 0.0826 - val_acc: 0.9764\n",
      "Epoch 24/60\n",
      "60000/60000 [==============================] - 3s 54us/step - loss: 0.0252 - acc: 0.9937 - val_loss: 0.0826 - val_acc: 0.9758\n",
      "Epoch 25/60\n",
      "60000/60000 [==============================] - 3s 54us/step - loss: 0.0247 - acc: 0.9939 - val_loss: 0.0828 - val_acc: 0.9765\n",
      "Epoch 26/60\n",
      "60000/60000 [==============================] - 3s 58us/step - loss: 0.0242 - acc: 0.9943 - val_loss: 0.0829 - val_acc: 0.9759\n",
      "Epoch 27/60\n",
      "60000/60000 [==============================] - 3s 55us/step - loss: 0.0238 - acc: 0.9944 - val_loss: 0.0828 - val_acc: 0.9760\n",
      "Epoch 28/60\n",
      "60000/60000 [==============================] - 3s 55us/step - loss: 0.0234 - acc: 0.9944 - val_loss: 0.0826 - val_acc: 0.9763\n",
      "Epoch 29/60\n",
      "60000/60000 [==============================] - 3s 55us/step - loss: 0.0230 - acc: 0.9946 - val_loss: 0.0828 - val_acc: 0.9764\n",
      "Epoch 30/60\n",
      "60000/60000 [==============================] - 3s 55us/step - loss: 0.0226 - acc: 0.9947 - val_loss: 0.0834 - val_acc: 0.9763\n",
      "Epoch 31/60\n",
      "60000/60000 [==============================] - 3s 56us/step - loss: 0.0224 - acc: 0.9949 - val_loss: 0.0834 - val_acc: 0.9762\n",
      "Epoch 32/60\n",
      "60000/60000 [==============================] - 3s 56us/step - loss: 0.0220 - acc: 0.9950 - val_loss: 0.0831 - val_acc: 0.9768\n",
      "Epoch 33/60\n",
      "60000/60000 [==============================] - 3s 55us/step - loss: 0.0217 - acc: 0.9950 - val_loss: 0.0831 - val_acc: 0.9766\n",
      "Epoch 34/60\n",
      "60000/60000 [==============================] - 3s 54us/step - loss: 0.0214 - acc: 0.9952 - val_loss: 0.0836 - val_acc: 0.9769\n",
      "Epoch 35/60\n",
      "60000/60000 [==============================] - 3s 56us/step - loss: 0.0211 - acc: 0.9952 - val_loss: 0.0837 - val_acc: 0.9770\n",
      "Epoch 36/60\n",
      "60000/60000 [==============================] - 3s 58us/step - loss: 0.0209 - acc: 0.9956 - val_loss: 0.0837 - val_acc: 0.9766\n",
      "Epoch 37/60\n",
      "60000/60000 [==============================] - 3s 58us/step - loss: 0.0206 - acc: 0.9955 - val_loss: 0.0834 - val_acc: 0.9762\n",
      "Epoch 38/60\n",
      "60000/60000 [==============================] - 3s 57us/step - loss: 0.0203 - acc: 0.9955 - val_loss: 0.0835 - val_acc: 0.9768\n",
      "Epoch 39/60\n",
      "60000/60000 [==============================] - 3s 56us/step - loss: 0.0201 - acc: 0.9957 - val_loss: 0.0838 - val_acc: 0.9769\n",
      "Epoch 40/60\n",
      "60000/60000 [==============================] - 3s 56us/step - loss: 0.0199 - acc: 0.9957 - val_loss: 0.0838 - val_acc: 0.9766\n",
      "Epoch 41/60\n",
      "60000/60000 [==============================] - 3s 56us/step - loss: 0.0197 - acc: 0.9956 - val_loss: 0.0837 - val_acc: 0.9768\n",
      "Epoch 42/60\n",
      "60000/60000 [==============================] - 3s 56us/step - loss: 0.0194 - acc: 0.9959 - val_loss: 0.0841 - val_acc: 0.9768\n",
      "Epoch 43/60\n",
      "60000/60000 [==============================] - 3s 54us/step - loss: 0.0192 - acc: 0.9960 - val_loss: 0.0842 - val_acc: 0.9767\n",
      "Epoch 44/60\n",
      "60000/60000 [==============================] - 3s 56us/step - loss: 0.0190 - acc: 0.9961 - val_loss: 0.0839 - val_acc: 0.9771\n",
      "Epoch 45/60\n",
      "60000/60000 [==============================] - 3s 54us/step - loss: 0.0189 - acc: 0.9961 - val_loss: 0.0839 - val_acc: 0.9765\n",
      "Epoch 46/60\n",
      "60000/60000 [==============================] - 3s 54us/step - loss: 0.0186 - acc: 0.9961 - val_loss: 0.0843 - val_acc: 0.9764\n",
      "Epoch 47/60\n",
      "60000/60000 [==============================] - 3s 54us/step - loss: 0.0185 - acc: 0.9961 - val_loss: 0.0842 - val_acc: 0.9771\n",
      "Epoch 48/60\n",
      "60000/60000 [==============================] - 3s 56us/step - loss: 0.0183 - acc: 0.9963 - val_loss: 0.0842 - val_acc: 0.9772\n",
      "Epoch 49/60\n",
      "60000/60000 [==============================] - 3s 55us/step - loss: 0.0181 - acc: 0.9963 - val_loss: 0.0844 - val_acc: 0.9770\n",
      "Epoch 50/60\n",
      "60000/60000 [==============================] - 3s 57us/step - loss: 0.0180 - acc: 0.9963 - val_loss: 0.0844 - val_acc: 0.9771\n",
      "Epoch 51/60\n",
      "60000/60000 [==============================] - 3s 57us/step - loss: 0.0178 - acc: 0.9966 - val_loss: 0.0844 - val_acc: 0.9768\n",
      "Epoch 52/60\n",
      "60000/60000 [==============================] - 3s 56us/step - loss: 0.0177 - acc: 0.9965 - val_loss: 0.0845 - val_acc: 0.9766\n",
      "Epoch 53/60\n",
      "60000/60000 [==============================] - 3s 56us/step - loss: 0.0175 - acc: 0.9965 - val_loss: 0.0847 - val_acc: 0.9769\n",
      "Epoch 54/60\n",
      "60000/60000 [==============================] - 3s 56us/step - loss: 0.0173 - acc: 0.9966 - val_loss: 0.0848 - val_acc: 0.9772\n",
      "Epoch 55/60\n",
      "60000/60000 [==============================] - 3s 55us/step - loss: 0.0172 - acc: 0.9966 - val_loss: 0.0850 - val_acc: 0.9771\n",
      "Epoch 56/60\n",
      "60000/60000 [==============================] - 3s 56us/step - loss: 0.0171 - acc: 0.9967 - val_loss: 0.0853 - val_acc: 0.9770\n",
      "Epoch 57/60\n",
      "60000/60000 [==============================] - 3s 57us/step - loss: 0.0170 - acc: 0.9967 - val_loss: 0.0849 - val_acc: 0.9775\n",
      "Epoch 58/60\n",
      "60000/60000 [==============================] - 3s 57us/step - loss: 0.0168 - acc: 0.9967 - val_loss: 0.0851 - val_acc: 0.9774\n",
      "Epoch 59/60\n",
      "60000/60000 [==============================] - 3s 57us/step - loss: 0.0167 - acc: 0.9968 - val_loss: 0.0847 - val_acc: 0.9768\n",
      "Epoch 60/60\n"
     ]
    },
    {
     "name": "stdout",
     "output_type": "stream",
     "text": [
      "60000/60000 [==============================] - 3s 54us/step - loss: 0.0166 - acc: 0.9968 - val_loss: 0.0851 - val_acc: 0.9771\n",
      "CPU times: user 5min 48s, sys: 1min 23s, total: 7min 11s\n",
      "Wall time: 3min 20s\n"
     ]
    }
   ],
   "source": [
    "%%time\n",
    "# Fit the model\n",
    "batch_size = 28\n",
    "\n",
    "lr_model_history = lr_model.fit(x_train, y_train,\n",
    "                    batch_size=batch_size,\n",
    "                    epochs=epochs,\n",
    "                    verbose=1,\n",
    "                    validation_data=(x_test, y_test))"
   ]
  },
  {
   "cell_type": "code",
   "execution_count": 25,
   "metadata": {},
   "outputs": [
    {
     "data": {
      "image/png": "[encoded data removed]",
      "text/plain": [
       "<Figure size 720x432 with 1 Axes>"
      ]
     },
     "metadata": {
      "needs_background": "light"
     },
     "output_type": "display_data"
    }
   ],
   "source": [
    "fig, ax = plt.subplots(1, 1, figsize=(10,6))\n",
    "ax.plot(np.sqrt(lr_model_history.history['loss']), 'r', label='train')\n",
    "ax.plot(np.sqrt(lr_model_history.history['val_loss']), 'b' ,label='val')\n",
    "ax.set_xlabel(r'Epoch', fontsize=20)\n",
    "ax.set_ylabel(r'Loss', fontsize=20)\n",
    "ax.legend()\n",
    "ax.tick_params(labelsize=20)"
   ]
  },
  {
   "cell_type": "code",
   "execution_count": 26,
   "metadata": {},
   "outputs": [
    {
     "data": {
      "image/png": "[encoded data removed]",
      "text/plain": [
       "<Figure size 720x432 with 1 Axes>"
      ]
     },
     "metadata": {
      "needs_background": "light"
     },
     "output_type": "display_data"
    }
   ],
   "source": [
    "fig, ax = plt.subplots(1, 1, figsize=(10,6))\n",
    "ax.plot(np.sqrt(lr_model_history.history['acc']), 'r', label='train')\n",
    "ax.plot(np.sqrt(lr_model_history.history['val_acc']), 'b' ,label='val')\n",
    "ax.set_xlabel(r'Epoch', fontsize=20)\n",
    "ax.set_ylabel(r'Accuracy', fontsize=20)\n",
    "ax.legend()\n",
    "ax.tick_params(labelsize=20)"
   ]
  },
  {
   "cell_type": "markdown",
   "metadata": {},
   "source": [
    "**Exercise:** Write a function that performs exponential learning rate decay using `LearningRateScheduler`\n",
    "\n",
    "$lr = lr0*e^{(-kt)}$ t is the iteration number"
   ]
  },
  {
   "cell_type": "markdown",
   "metadata": {},
   "source": [
    "### Step 3 - Choosing an `optimizer` and a `loss function`\n",
    "\n",
    "When constructing a model and using it to make our predictions, for example to assign label scores to images (\"cat\", \"plane\", etc), we want to measure our success or failure by defining a \"loss\" function (or objective function). The goal of optimization is to efficiently calculate the parameters/weights that minimize this loss function. `keras` provides various types of [loss functions](https://github.com/keras-team/keras/blob/master/keras/losses.py).\n",
    "\n",
    "Sometimes the \"loss\" function measures the \"distance\". We can define this \"distance\" between two data points in various ways suitable to the problem or dataset.\n",
    "\n",
    "Distance \n",
    "\n",
    "- Euclidean \n",
    "- Manhattan\n",
    "- others such as Hamming which measures distances between strings, for example. The Hamming distance of \"carolin\" and \"cathrin\" is 3.\n",
    "\n",
    "Loss functions\n",
    "- MSE (for regression)\n",
    "- categorical cross-entropy (for classification)\n",
    "- binary cross entropy (for classification)"
   ]
  },
  {
   "cell_type": "code",
   "execution_count": 27,
   "metadata": {},
   "outputs": [],
   "source": [
    "# build the model\n",
    "input_dim = x_train.shape[1]\n",
    "\n",
    "model = Sequential()\n",
    "model.add(Dense(64, activation=tf.nn.relu, kernel_initializer='uniform', \n",
    "                input_dim = input_dim)) # fully-connected layer with 64 hidden units\n",
    "#model.add(Dropout(0.5))\n",
    "model.add(Dense(64, kernel_initializer='uniform', activation=tf.nn.relu))\n",
    "#model.add(Dropout(0.5))\n",
    "model.add(Dense(num_classes, kernel_initializer='uniform', activation=tf.nn.softmax))"
   ]
  },
  {
   "cell_type": "code",
   "execution_count": 28,
   "metadata": {},
   "outputs": [],
   "source": [
    "# defining the parameters for RMSprop (I used the keras defaults here)\n",
    "rms = RMSprop(lr=0.001, rho=0.9, epsilon=None, decay=0.0)\n",
    "\n",
    "model.compile(loss='categorical_crossentropy',\n",
    "              optimizer=rms,\n",
    "              metrics=['acc'])"
   ]
  },
  {
   "cell_type": "markdown",
   "metadata": {},
   "source": [
    "### Step 4 - Deciding on the `batch size` and `number of epochs`"
   ]
  },
  {
   "cell_type": "code",
   "execution_count": 29,
   "metadata": {},
   "outputs": [
    {
     "name": "stdout",
     "output_type": "stream",
     "text": [
      "Train on 60000 samples, validate on 10000 samples\n",
      "Epoch 1/20\n",
      "60000/60000 [==============================] - 3s 58us/step - loss: 0.3924 - acc: 0.8847 - val_loss: 0.2036 - val_acc: 0.9383\n",
      "Epoch 2/20\n",
      "60000/60000 [==============================] - 3s 53us/step - loss: 0.1732 - acc: 0.9494 - val_loss: 0.1349 - val_acc: 0.9588\n",
      "Epoch 3/20\n",
      "60000/60000 [==============================] - 3s 53us/step - loss: 0.1246 - acc: 0.9637 - val_loss: 0.1142 - val_acc: 0.9647\n",
      "Epoch 4/20\n",
      "60000/60000 [==============================] - 3s 56us/step - loss: 0.1008 - acc: 0.9708 - val_loss: 0.1180 - val_acc: 0.9678\n",
      "Epoch 5/20\n",
      "60000/60000 [==============================] - 3s 54us/step - loss: 0.0872 - acc: 0.9753 - val_loss: 0.1014 - val_acc: 0.9732\n",
      "Epoch 6/20\n",
      "60000/60000 [==============================] - 3s 56us/step - loss: 0.0761 - acc: 0.9786 - val_loss: 0.1262 - val_acc: 0.9683\n",
      "Epoch 7/20\n",
      "60000/60000 [==============================] - 4s 58us/step - loss: 0.0685 - acc: 0.9806 - val_loss: 0.1107 - val_acc: 0.9713\n",
      "Epoch 8/20\n",
      "60000/60000 [==============================] - 3s 56us/step - loss: 0.0627 - acc: 0.9829 - val_loss: 0.1198 - val_acc: 0.9715\n",
      "Epoch 9/20\n",
      "60000/60000 [==============================] - 3s 56us/step - loss: 0.0577 - acc: 0.9837 - val_loss: 0.1448 - val_acc: 0.9674\n",
      "Epoch 10/20\n",
      "60000/60000 [==============================] - 3s 55us/step - loss: 0.0530 - acc: 0.9858 - val_loss: 0.1179 - val_acc: 0.9739\n",
      "Epoch 11/20\n",
      "60000/60000 [==============================] - 3s 55us/step - loss: 0.0496 - acc: 0.9867 - val_loss: 0.1215 - val_acc: 0.9743\n",
      "Epoch 12/20\n",
      "60000/60000 [==============================] - 3s 53us/step - loss: 0.0470 - acc: 0.9873 - val_loss: 0.1329 - val_acc: 0.9739\n",
      "Epoch 13/20\n",
      "60000/60000 [==============================] - 3s 54us/step - loss: 0.0433 - acc: 0.9883 - val_loss: 0.1361 - val_acc: 0.9738\n",
      "Epoch 14/20\n",
      "60000/60000 [==============================] - 3s 56us/step - loss: 0.0403 - acc: 0.9891 - val_loss: 0.1227 - val_acc: 0.9761\n",
      "Epoch 15/20\n",
      "60000/60000 [==============================] - 3s 54us/step - loss: 0.0366 - acc: 0.9905 - val_loss: 0.1414 - val_acc: 0.9731\n",
      "Epoch 16/20\n",
      "60000/60000 [==============================] - 3s 53us/step - loss: 0.0349 - acc: 0.9914 - val_loss: 0.1520 - val_acc: 0.9732\n",
      "Epoch 17/20\n",
      "60000/60000 [==============================] - 3s 55us/step - loss: 0.0314 - acc: 0.9913 - val_loss: 0.1444 - val_acc: 0.9760\n",
      "Epoch 18/20\n",
      "60000/60000 [==============================] - 3s 52us/step - loss: 0.0304 - acc: 0.9922 - val_loss: 0.1529 - val_acc: 0.9722\n",
      "Epoch 19/20\n",
      "60000/60000 [==============================] - 3s 53us/step - loss: 0.0281 - acc: 0.9927 - val_loss: 0.1463 - val_acc: 0.9749\n",
      "Epoch 20/20\n",
      "60000/60000 [==============================] - 3s 54us/step - loss: 0.0260 - acc: 0.9934 - val_loss: 0.1821 - val_acc: 0.9693\n",
      "CPU times: user 1min 58s, sys: 27 s, total: 2min 25s\n",
      "Wall time: 1min 5s\n"
     ]
    }
   ],
   "source": [
    "%%time\n",
    "batch_size = 32\n",
    "epochs = 20\n",
    "\n",
    "model_history = model.fit(x_train, y_train,\n",
    "                    batch_size=batch_size,\n",
    "                    epochs=epochs,\n",
    "                    verbose=1,\n",
    "                    validation_data=(x_test, y_test))"
   ]
  },
  {
   "cell_type": "code",
   "execution_count": 30,
   "metadata": {},
   "outputs": [
    {
     "name": "stdout",
     "output_type": "stream",
     "text": [
      "Test loss: 0.18207394694871187\n",
      "Test accuracy: 0.9693\n",
      "Test R2: 0.9419778253787543\n"
     ]
    }
   ],
   "source": [
    "from sklearn.metrics import r2_score as r2\n",
    "\n",
    "score = model.evaluate(x_test, y_test, verbose=0)\n",
    "print('Test loss:', score[0])\n",
    "print('Test accuracy:', score[1])\n",
    "print('Test R2:', r2(y_test, model.predict(x_test)))"
   ]
  },
  {
   "cell_type": "code",
   "execution_count": 31,
   "metadata": {},
   "outputs": [
    {
     "data": {
      "image/png": "[encoded data removed]",
      "text/plain": [
       "<Figure size 720x432 with 1 Axes>"
      ]
     },
     "metadata": {
      "needs_background": "light"
     },
     "output_type": "display_data"
    }
   ],
   "source": [
    "fig, ax = plt.subplots(1, 1, figsize=(10,6))\n",
    "ax.plot(np.sqrt(model_history.history['acc']), 'r', label='train_acc')\n",
    "ax.plot(np.sqrt(model_history.history['val_acc']), 'b' ,label='val_acc')\n",
    "ax.set_xlabel(r'Epoch', fontsize=20)\n",
    "ax.set_ylabel(r'Accuracy', fontsize=20)\n",
    "ax.legend()\n",
    "ax.tick_params(labelsize=20)"
   ]
  },
  {
   "cell_type": "code",
   "execution_count": 32,
   "metadata": {},
   "outputs": [
    {
     "data": {
      "image/png": "[encoded data removed]",
      "text/plain": [
       "<Figure size 720x432 with 1 Axes>"
      ]
     },
     "metadata": {
      "needs_background": "light"
     },
     "output_type": "display_data"
    }
   ],
   "source": [
    "fig, ax = plt.subplots(1, 1, figsize=(10,6))\n",
    "ax.plot(np.sqrt(model_history.history['loss']), 'r', label='train')\n",
    "ax.plot(np.sqrt(model_history.history['val_loss']), 'b' ,label='val')\n",
    "ax.set_xlabel(r'Epoch', fontsize=20)\n",
    "ax.set_ylabel(r'Loss', fontsize=20)\n",
    "ax.legend()\n",
    "ax.tick_params(labelsize=20)"
   ]
  },
  {
   "cell_type": "code",
   "execution_count": 33,
   "metadata": {},
   "outputs": [
    {
     "name": "stdout",
     "output_type": "stream",
     "text": [
      "dict_keys(['val_loss', 'val_acc', 'loss', 'acc'])\n"
     ]
    }
   ],
   "source": [
    "print(model_history.history.keys())"
   ]
  },
  {
   "cell_type": "markdown",
   "metadata": {},
   "source": [
    "### Step 5 - Random restarts"
   ]
  },
  {
   "cell_type": "markdown",
   "metadata": {},
   "source": [
    "This method does not seem to have an implementation in `keras`. We will leave it as a home exercise!\n",
    "\n",
    "Hint: you can use `keras.callbacks.LearningRateScheduler`.\n"
   ]
  },
  {
   "cell_type": "markdown",
   "metadata": {},
   "source": [
    "### Tuning the Hyperparameters using Cross Validation\n",
    "\n",
    "Now instead of trying different values by hand, we will use GridSearchCV from Scikit-Learn to try out several values for our hyperparameters and compare the results.\n",
    "\n",
    "To do cross-validation with `keras` we will use the wrappers for the Scikit-Learn API. They provide a way to use Sequential Keras models (single-input only) as part of your Scikit-Learn workflow.\n",
    "\n",
    "There are two wrappers available:\n",
    "\n",
    "`keras.wrappers.scikit_learn.KerasClassifier(build_fn=None, **sk_params)`, which implements the Scikit-Learn classifier interface,\n",
    "\n",
    "`keras.wrappers.scikit_learn.KerasRegressor(build_fn=None, **sk_params)`, which implements the Scikit-Learn regressor interface."
   ]
  },
  {
   "cell_type": "code",
   "execution_count": 34,
   "metadata": {},
   "outputs": [],
   "source": [
    "import numpy\n",
    "from sklearn.model_selection import GridSearchCV\n",
    "from keras.wrappers.scikit_learn import KerasClassifier"
   ]
  },
  {
   "cell_type": "markdown",
   "metadata": {},
   "source": [
    "#### Trying different weight initializations"
   ]
  },
  {
   "cell_type": "code",
   "execution_count": 35,
   "metadata": {},
   "outputs": [],
   "source": [
    "# Function to create model, required for KerasClassifier\n",
    "def create_model(init_mode='uniform'):\n",
    "    # define model\n",
    "    model = Sequential()\n",
    "    model.add(Dense(64, kernel_initializer=init_mode, activation=tf.nn.relu, input_dim=784)) \n",
    "    model.add(Dropout(0.5))\n",
    "    model.add(Dense(64, kernel_initializer=init_mode, activation=tf.nn.relu))\n",
    "    model.add(Dropout(0.5))\n",
    "    model.add(Dense(10, kernel_initializer=init_mode, activation=tf.nn.softmax))\n",
    "    # compile model\n",
    "    model.compile(loss='categorical_crossentropy',\n",
    "              optimizer=RMSprop(),\n",
    "              metrics=['accuracy'])\n",
    "    return model"
   ]
  },
  {
   "cell_type": "code",
   "execution_count": 36,
   "metadata": {},
   "outputs": [
    {
     "name": "stdout",
     "output_type": "stream",
     "text": [
      "Best: 0.949333 using {'init_mode': 'lecun_uniform'}\n",
      "0.945850 (0.002531) with: {'init_mode': 'uniform'}\n",
      "0.949333 (0.001327) with: {'init_mode': 'lecun_uniform'}\n",
      "0.947133 (0.001782) with: {'init_mode': 'normal'}\n",
      "0.112367 (0.002416) with: {'init_mode': 'zero'}\n",
      "0.947533 (0.001002) with: {'init_mode': 'glorot_normal'}\n",
      "0.949117 (0.001478) with: {'init_mode': 'glorot_uniform'}\n",
      "0.946383 (0.003040) with: {'init_mode': 'he_normal'}\n",
      "0.947383 (0.001852) with: {'init_mode': 'he_uniform'}\n",
      "CPU times: user 25.4 s, sys: 5.71 s, total: 31.1 s\n",
      "Wall time: 1min 51s\n"
     ]
    }
   ],
   "source": [
    "%%time\n",
    "seed = 7\n",
    "numpy.random.seed(seed)\n",
    "batch_size = 128\n",
    "epochs = 10\n",
    "\n",
    "model_CV = KerasClassifier(build_fn=create_model, epochs=epochs, batch_size=batch_size, verbose=0)\n",
    "# define the grid search parameters\n",
    "init_mode = ['uniform', 'lecun_uniform', 'normal', 'zero', 'glorot_normal', 'glorot_uniform', 'he_normal', 'he_uniform']\n",
    "\n",
    "param_grid = dict(init_mode=init_mode)\n",
    "grid = GridSearchCV(estimator=model_CV, param_grid=param_grid, n_jobs=-1, cv=3)\n",
    "grid_result = grid.fit(x_train, y_train)\n",
    "\n",
    "# summarize results\n",
    "print(\"Best: %f using %s\" % (grid_result.best_score_, grid_result.best_params_))\n",
    "means = grid_result.cv_results_['mean_test_score']\n",
    "stds = grid_result.cv_results_['std_test_score']\n",
    "params = grid_result.cv_results_['params']\n",
    "for mean, stdev, param in zip(means, stds, params):\n",
    "    print(\"%f (%f) with: %r\" % (mean, stdev, param))"
   ]
  },
  {
   "cell_type": "markdown",
   "metadata": {},
   "source": [
    "### Save Your Neural Network Model to JSON"
   ]
  },
  {
   "cell_type": "markdown",
   "metadata": {},
   "source": [
    "The Hierarchical Data Format (HDF5) is a data storage format for storing large arrays of data including values for the weights in a neural network.\n",
    "You can install HDF5 Python module: pip install h5py"
   ]
  },
  {
   "cell_type": "markdown",
   "metadata": {},
   "source": [
    "Keras gives you the ability to describe and save any model using the JSON format."
   ]
  },
  {
   "cell_type": "code",
   "execution_count": 37,
   "metadata": {},
   "outputs": [
    {
     "name": "stdout",
     "output_type": "stream",
     "text": [
      "Model saved\n",
      "Model loaded\n"
     ]
    }
   ],
   "source": [
    "from keras.models import model_from_json\n",
    "\n",
    "# serialize model to JSON\n",
    "model_json = model.to_json()\n",
    "\n",
    "with open(\"model.json\", \"w\") as json_file:\n",
    "    json_file.write(model_json)\n",
    "\n",
    "# save weights to HDF5\n",
    "model.save_weights(\"model.h5\")\n",
    "print(\"Model saved\")\n",
    "\n",
    "# when you want to retrieve the model: load json and create model\n",
    "json_file = open('model.json', 'r')\n",
    "saved_model = json_file.read()\n",
    "# close the file as good practice\n",
    "json_file.close()\n",
    "model_from_json = model_from_json(saved_model)\n",
    "# load weights into new model\n",
    "model_from_json.load_weights(\"model.h5\")\n",
    "print(\"Model loaded\")"
   ]
  },
  {
   "cell_type": "markdown",
   "metadata": {},
   "source": [
    "### Exercise 1: Perform a GridSearch for Learning rate and number of epochs combined"
   ]
  },
  {
   "cell_type": "markdown",
   "metadata": {},
   "source": [
    "We will try various small standard learning rates, and momentum values from 0.1 to 0.9 in steps of 0.2.\n",
    "\n",
    "We want to include the number of epochs in an optimization as there is a dependency between the learning rate, the batch size, and the number of epochs."
   ]
  },
  {
   "cell_type": "code",
   "execution_count": 38,
   "metadata": {},
   "outputs": [],
   "source": [
    "# Function to create model, required for KerasClassifier\n",
    "def create_model2(lr=0.01, momentum=0.9):\n",
    "    # define model\n",
    "    model = Sequential()\n",
    "    model.add(Dense(64, activation=tf.nn.relu, input_dim=784)) \n",
    "    model.add(Dropout(0.5))\n",
    "    model.add(Dense(64, activation=tf.nn.relu))\n",
    "    model.add(Dropout(0.5))\n",
    "    model.add(Dense(10, activation=tf.nn.softmax))\n",
    "    # compile model\n",
    "    model.compile(loss='categorical_crossentropy',\n",
    "              optimizer=SGD(lr=lr, momentum=momentum),\n",
    "              metrics=['accuracy'])\n",
    "    return model"
   ]
  },
  {
   "cell_type": "code",
   "execution_count": 41,
   "metadata": {},
   "outputs": [
    {
     "name": "stdout",
     "output_type": "stream",
     "text": [
      "Best: 0.947433 using {'lr': 0.1, 'momentum': 0.7}\n",
      "0.644717 (0.044976) with: {'lr': 0.001, 'momentum': 0.1}\n",
      "0.726167 (0.010186) with: {'lr': 0.001, 'momentum': 0.3}\n",
      "0.780017 (0.010354) with: {'lr': 0.001, 'momentum': 0.5}\n",
      "0.838217 (0.011302) with: {'lr': 0.001, 'momentum': 0.7}\n",
      "0.892733 (0.004777) with: {'lr': 0.001, 'momentum': 0.9}\n",
      "0.894867 (0.005373) with: {'lr': 0.01, 'momentum': 0.1}\n",
      "0.901750 (0.003902) with: {'lr': 0.01, 'momentum': 0.3}\n",
      "0.911750 (0.003221) with: {'lr': 0.01, 'momentum': 0.5}\n",
      "0.922217 (0.004031) with: {'lr': 0.01, 'momentum': 0.7}\n",
      "0.941050 (0.001995) with: {'lr': 0.01, 'momentum': 0.9}\n",
      "0.936417 (0.003528) with: {'lr': 0.05, 'momentum': 0.1}\n",
      "0.937250 (0.003182) with: {'lr': 0.05, 'momentum': 0.3}\n",
      "0.941383 (0.004048) with: {'lr': 0.05, 'momentum': 0.5}\n",
      "0.946967 (0.002925) with: {'lr': 0.05, 'momentum': 0.7}\n",
      "0.946200 (0.002777) with: {'lr': 0.05, 'momentum': 0.9}\n",
      "0.944200 (0.002947) with: {'lr': 0.1, 'momentum': 0.1}\n",
      "0.943217 (0.003100) with: {'lr': 0.1, 'momentum': 0.3}\n",
      "0.947000 (0.003581) with: {'lr': 0.1, 'momentum': 0.5}\n",
      "0.947433 (0.001782) with: {'lr': 0.1, 'momentum': 0.7}\n",
      "0.933600 (0.000982) with: {'lr': 0.1, 'momentum': 0.9}\n",
      "CPU times: user 24.2 s, sys: 5.01 s, total: 29.2 s\n",
      "Wall time: 3min 47s\n"
     ]
    }
   ],
   "source": [
    "%%time\n",
    "seed = 12\n",
    "numpy.random.seed(seed)\n",
    "batch_size = 128\n",
    "epochs = 10\n",
    "\n",
    "model_CV = KerasClassifier(build_fn=create_model2, epochs=epochs, batch_size=batch_size, verbose=0)\n",
    "# define the grid search parameters\n",
    "lrs = [0.001, 0.01, 0.05, 0.1]\n",
    "momentums = [0.1,0.3,0.5,0.7,0.9]\n",
    "\n",
    "param_grid = dict(lr=lrs,momentum=momentums)\n",
    "grid = GridSearchCV(estimator=model_CV, param_grid=param_grid, n_jobs=-1, cv=3)\n",
    "grid_result = grid.fit(x_train, y_train)\n",
    "\n",
    "# summarize results\n",
    "print(\"Best: %f using %s\" % (grid_result.best_score_, grid_result.best_params_))\n",
    "means = grid_result.cv_results_['mean_test_score']\n",
    "stds = grid_result.cv_results_['std_test_score']\n",
    "params = grid_result.cv_results_['params']\n",
    "for mean, stdev, param in zip(means, stds, params):\n",
    "    print(\"%f (%f) with: %r\" % (mean, stdev, param))"
   ]
  }
 ],
 "metadata": {
  "kernelspec": {
   "display_name": "Python 3",
   "language": "python",
   "name": "python3"
  },
  "language_info": {
   "codemirror_mode": {
    "name": "ipython",
    "version": 3
   },
   "file_extension": ".py",
   "mimetype": "text/x-python",
   "name": "python",
   "nbconvert_exporter": "python",
   "pygments_lexer": "ipython3",
   "version": "3.6.7"
  }
 },
 "nbformat": 4,
 "nbformat_minor": 2
}
